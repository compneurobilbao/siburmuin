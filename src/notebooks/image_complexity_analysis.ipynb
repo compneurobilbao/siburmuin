{
 "cells": [
  {
   "cell_type": "markdown",
   "metadata": {},
   "source": [
    "## Método 1: Entropía"
   ]
  },
  {
   "cell_type": "code",
   "execution_count": 31,
   "metadata": {},
   "outputs": [],
   "source": [
    "## Fuente: https://www.kaggle.com/code/banddaniel/how-to-calculate-the-entropy-of-an-image"
   ]
  },
  {
   "cell_type": "code",
   "execution_count": null,
   "metadata": {},
   "outputs": [],
   "source": [
    "import warnings \n",
    "warnings.filterwarnings('ignore')\n",
    "\n",
    "import os \n",
    "import numpy as np\n",
    "import pandas as pd\n",
    "import matplotlib.pyplot as plt\n",
    "import seaborn as sns\n",
    "\n",
    "import skimage\n",
    "from skimage.util import random_noise\n",
    "from skimage import io,img_as_float,img_as_ubyte"
   ]
  },
  {
   "cell_type": "code",
   "execution_count": 8,
   "metadata": {},
   "outputs": [],
   "source": [
    "working_dir = os.path.join(os.getcwd(), 'working')\n",
    "os.makedirs(os.path.join(working_dir, 'Original'), exist_ok=True)\n",
    "os.makedirs(os.path.join(working_dir, 'Low_Noise'), exist_ok=True)\n",
    "os.makedirs(os.path.join(working_dir, 'High_Noise'), exist_ok=True)"
   ]
  },
  {
   "cell_type": "code",
   "execution_count": 25,
   "metadata": {},
   "outputs": [],
   "source": [
    "def create_noisy_dataset(main_path):\n",
    "    \"\"\"\n",
    "    :param string main_path: main path of dataset (exp. '/kaggle/input/panda-or-bear-image-classification/PandasBears/Train/Bears')\n",
    "    :param string target_path: target path of new datasets (exp. '/kaggle/working/Train/Bears/')\n",
    "    \"\"\"\n",
    "    images_dir = os.listdir(main_path+'/Original')\n",
    "    \n",
    "    for i in images_dir:\n",
    "      \n",
    "        # original image\n",
    "        img_original = io.imread(main_path + \"/Original/\"+i)        \n",
    "        io.imsave(main_path + '/tmp/original_' +i , img_as_ubyte(img_original))\n",
    "\n",
    "        # image array and convertin uint8\n",
    "        img_arr = np.asarray(img_original, dtype='uint8')\n",
    "        \n",
    "        # creating low noised image\n",
    "        img_low_noise = random_noise(img_arr , mode='gaussian', var = 0.1**2)\n",
    "        io.imsave(main_path + '/Low_Noise/LN_' +i , img_as_ubyte(img_low_noise))\n",
    "        \n",
    "        # creating high noised image\n",
    "        img_high_noise = random_noise(img_arr , mode='gaussian', var = 0.6**2)\n",
    "        io.imsave(main_path + '/High_Noise/HN_' +i , img_as_ubyte(img_high_noise))\n",
    "\n",
    "    print('new datasets created')"
   ]
  },
  {
   "cell_type": "code",
   "execution_count": 26,
   "metadata": {},
   "outputs": [
    {
     "name": "stdout",
     "output_type": "stream",
     "text": [
      "new datasets created\n"
     ]
    }
   ],
   "source": [
    "create_noisy_dataset(working_dir)"
   ]
  },
  {
   "cell_type": "code",
   "execution_count": 35,
   "metadata": {},
   "outputs": [],
   "source": [
    "def create_entropies_list(path):\n",
    "    \n",
    "    main_dir = os.listdir(path)\n",
    "\n",
    "    images_mean_entropy = []\n",
    "    \n",
    "    for i in main_dir:\n",
    "        img_path = os.path.join(path, i )\n",
    "        img = skimage.io.imread(img_path)\n",
    "        img = skimage.color.rgb2gray(img)\n",
    "        entropy = skimage.measure.shannon_entropy(img)\n",
    "    \n",
    "        images_mean_entropy.append(entropy)\n",
    "        \n",
    "        \n",
    "    return images_mean_entropy\n",
    "\n",
    "def create_image_list(path):\n",
    "    \"\"\"\n",
    "    Crea una lista con los nombres de las imágenes en el directorio especificado.\n",
    "    \n",
    "    :param string path: ruta al directorio de imágenes\n",
    "    :return: lista de nombres de las imágenes\n",
    "    \"\"\"\n",
    "    main_dir = os.listdir(path)\n",
    "    image_names = []\n",
    "    \n",
    "    for i in main_dir:\n",
    "        image_names.append(i)\n",
    "        \n",
    "    return image_names\n"
   ]
  },
  {
   "cell_type": "code",
   "execution_count": null,
   "metadata": {},
   "outputs": [],
   "source": [
    "original = create_entropies_list(working_dir + '/tmp')\n",
    "low_noised = create_entropies_list(working_dir + '/Low_Noise')\n",
    "high_noised = create_entropies_list(working_dir + '/High_Noise')\n",
    "image_names = create_image_list(working_dir + '/Original')"
   ]
  },
  {
   "cell_type": "code",
   "execution_count": 41,
   "metadata": {},
   "outputs": [
    {
     "data": {
      "text/html": [
       "<div>\n",
       "<style scoped>\n",
       "    .dataframe tbody tr th:only-of-type {\n",
       "        vertical-align: middle;\n",
       "    }\n",
       "\n",
       "    .dataframe tbody tr th {\n",
       "        vertical-align: top;\n",
       "    }\n",
       "\n",
       "    .dataframe thead th {\n",
       "        text-align: right;\n",
       "    }\n",
       "</style>\n",
       "<table border=\"1\" class=\"dataframe\">\n",
       "  <thead>\n",
       "    <tr style=\"text-align: right;\">\n",
       "      <th></th>\n",
       "      <th>name</th>\n",
       "      <th>normal_img</th>\n",
       "      <th>low_noised</th>\n",
       "      <th>high_noised</th>\n",
       "    </tr>\n",
       "  </thead>\n",
       "  <tbody>\n",
       "    <tr>\n",
       "      <th>0</th>\n",
       "      <td>panda.jpeg</td>\n",
       "      <td>14.154218</td>\n",
       "      <td>16.497409</td>\n",
       "      <td>19.003657</td>\n",
       "    </tr>\n",
       "    <tr>\n",
       "      <th>1</th>\n",
       "      <td>panthera-tigris-.jpeg</td>\n",
       "      <td>15.436296</td>\n",
       "      <td>16.953669</td>\n",
       "      <td>18.714095</td>\n",
       "    </tr>\n",
       "    <tr>\n",
       "      <th>2</th>\n",
       "      <td>pexels-7inchs-11552022.jpg</td>\n",
       "      <td>13.492522</td>\n",
       "      <td>16.509308</td>\n",
       "      <td>19.703010</td>\n",
       "    </tr>\n",
       "    <tr>\n",
       "      <th>3</th>\n",
       "      <td>pexels-crisdip-35358-128756.jpg</td>\n",
       "      <td>12.955176</td>\n",
       "      <td>16.357799</td>\n",
       "      <td>19.416966</td>\n",
       "    </tr>\n",
       "    <tr>\n",
       "      <th>4</th>\n",
       "      <td>pexels-lone-jensen-431642-2156316.jpg</td>\n",
       "      <td>8.531757</td>\n",
       "      <td>15.202428</td>\n",
       "      <td>19.030592</td>\n",
       "    </tr>\n",
       "    <tr>\n",
       "      <th>5</th>\n",
       "      <td>pexels-nahuel-robledo-336304060-18115025.jpg</td>\n",
       "      <td>9.811120</td>\n",
       "      <td>14.574818</td>\n",
       "      <td>19.182774</td>\n",
       "    </tr>\n",
       "    <tr>\n",
       "      <th>6</th>\n",
       "      <td>pexels-photo-1036269.jpeg</td>\n",
       "      <td>12.246582</td>\n",
       "      <td>16.693013</td>\n",
       "      <td>19.319942</td>\n",
       "    </tr>\n",
       "    <tr>\n",
       "      <th>7</th>\n",
       "      <td>pexels-photo-1085542.jpeg</td>\n",
       "      <td>6.322350</td>\n",
       "      <td>12.214801</td>\n",
       "      <td>17.798012</td>\n",
       "    </tr>\n",
       "    <tr>\n",
       "      <th>8</th>\n",
       "      <td>pexels-photo-10962808.jpeg</td>\n",
       "      <td>18.078673</td>\n",
       "      <td>18.554256</td>\n",
       "      <td>19.299933</td>\n",
       "    </tr>\n",
       "    <tr>\n",
       "      <th>9</th>\n",
       "      <td>pexels-photo-12563378.jpeg</td>\n",
       "      <td>16.471128</td>\n",
       "      <td>17.655593</td>\n",
       "      <td>19.469749</td>\n",
       "    </tr>\n",
       "    <tr>\n",
       "      <th>10</th>\n",
       "      <td>pexels-pixabay-209074.jpg</td>\n",
       "      <td>15.831888</td>\n",
       "      <td>17.644314</td>\n",
       "      <td>19.592347</td>\n",
       "    </tr>\n",
       "    <tr>\n",
       "      <th>11</th>\n",
       "      <td>pexels-pixabay-53581.jpg</td>\n",
       "      <td>10.466617</td>\n",
       "      <td>14.459671</td>\n",
       "      <td>18.916067</td>\n",
       "    </tr>\n",
       "    <tr>\n",
       "      <th>12</th>\n",
       "      <td>squirrel.jpeg</td>\n",
       "      <td>16.327900</td>\n",
       "      <td>17.996172</td>\n",
       "      <td>19.230487</td>\n",
       "    </tr>\n",
       "  </tbody>\n",
       "</table>\n",
       "</div>"
      ],
      "text/plain": [
       "                                            name  normal_img   low_noised  \\\n",
       "0                                     panda.jpeg   14.154218    16.497409   \n",
       "1                          panthera-tigris-.jpeg   15.436296    16.953669   \n",
       "2                     pexels-7inchs-11552022.jpg   13.492522    16.509308   \n",
       "3                pexels-crisdip-35358-128756.jpg   12.955176    16.357799   \n",
       "4          pexels-lone-jensen-431642-2156316.jpg    8.531757    15.202428   \n",
       "5   pexels-nahuel-robledo-336304060-18115025.jpg    9.811120    14.574818   \n",
       "6                      pexels-photo-1036269.jpeg   12.246582    16.693013   \n",
       "7                      pexels-photo-1085542.jpeg    6.322350    12.214801   \n",
       "8                     pexels-photo-10962808.jpeg   18.078673    18.554256   \n",
       "9                     pexels-photo-12563378.jpeg   16.471128    17.655593   \n",
       "10                     pexels-pixabay-209074.jpg   15.831888    17.644314   \n",
       "11                      pexels-pixabay-53581.jpg   10.466617    14.459671   \n",
       "12                                 squirrel.jpeg   16.327900    17.996172   \n",
       "\n",
       "    high_noised  \n",
       "0     19.003657  \n",
       "1     18.714095  \n",
       "2     19.703010  \n",
       "3     19.416966  \n",
       "4     19.030592  \n",
       "5     19.182774  \n",
       "6     19.319942  \n",
       "7     17.798012  \n",
       "8     19.299933  \n",
       "9     19.469749  \n",
       "10    19.592347  \n",
       "11    18.916067  \n",
       "12    19.230487  "
      ]
     },
     "execution_count": 41,
     "metadata": {},
     "output_type": "execute_result"
    }
   ],
   "source": [
    "entropy_table = pd.DataFrame(list(zip(image_names, original, low_noised, high_noised )) ,\n",
    "                             columns=['name', 'normal_img', ' low_noised', 'high_noised'])\n",
    "entropy_table"
   ]
  },
  {
   "cell_type": "code",
   "execution_count": 30,
   "metadata": {},
   "outputs": [
    {
     "data": {
      "text/plain": [
       "<Axes: >"
      ]
     },
     "execution_count": 30,
     "metadata": {},
     "output_type": "execute_result"
    },
    {
     "data": {
      "image/png": "[encoded data removed]",
      "text/plain": [
       "<Figure size 768x576 with 1 Axes>"
      ]
     },
     "metadata": {},
     "output_type": "display_data"
    }
   ],
   "source": [
    "plt.figure( dpi=120 )\n",
    "sns.scatterplot(data = entropy_table  )"
   ]
  },
  {
   "cell_type": "markdown",
   "metadata": {},
   "source": [
    "## Método 2: Dimensión fractal"
   ]
  },
  {
   "cell_type": "code",
   "execution_count": null,
   "metadata": {},
   "outputs": [],
   "source": [
    "## Source: https://github.com/brian-xu/FractalDimension/blob/master/FractalDimension.py"
   ]
  },
  {
   "cell_type": "code",
   "execution_count": 2,
   "metadata": {},
   "outputs": [],
   "source": [
    "import numpy as np\n",
    "import cv2\n",
    "\n",
    "def fractal_dimension(image: np.ndarray) -> np.float64:\n",
    "    \"\"\" Calculates the fractal dimension of an image represented by a 2D numpy array.\n",
    "\n",
    "    The algorithm is a modified box-counting algorithm as described by Wen-Li Lee and Kai-Sheng Hsieh.\n",
    "\n",
    "    Args:\n",
    "        image: A 2D array containing a grayscale image. Format should be equivalent to cv2.imread(flags=0).\n",
    "               The size of the image has no constraints, but it needs to be square (m×m array).\n",
    "    Returns:\n",
    "        D: The fractal dimension Df, as estimated by the modified box-counting algorithm.\n",
    "    \"\"\"\n",
    "    M = image.shape[0]  # image shape\n",
    "    G_min = image.min()  # lowest gray level (0=white)\n",
    "    G_max = image.max()  # highest gray level (255=black)\n",
    "    G = G_max - G_min + 1  # number of gray levels, typically 256\n",
    "    prev = -1  # used to check for plateaus\n",
    "    r_Nr = []\n",
    "\n",
    "    for L in range(2, (M // 2) + 1):\n",
    "        h = max(1, G // (M // L))  # minimum box height is 1\n",
    "        N_r = 0\n",
    "        r = L / M\n",
    "        for i in range(0, M, L):\n",
    "            boxes = [[]] * ((G + h - 1) // h)  # create enough boxes with height h to fill the fractal space\n",
    "            for row in image[i:i + L]:  # boxes that exceed bounds are shrunk to fit\n",
    "                for pixel in row[i:i + L]:\n",
    "                    height = (pixel - G_min) // h  # lowest box is at G_min and each is h gray levels tall\n",
    "                    boxes[height].append(pixel)  # assign the pixel intensity to the correct box\n",
    "            stddev = np.sqrt(np.var(boxes, axis=1))  # calculate the standard deviation of each box\n",
    "            stddev = stddev[~np.isnan(stddev)]  # remove boxes with NaN standard deviations (empty)\n",
    "            nBox_r = 2 * (stddev // h) + 1\n",
    "            N_r += sum(nBox_r)\n",
    "        if N_r != prev:  # check for plateauing\n",
    "            r_Nr.append([r, N_r])\n",
    "            prev = N_r\n",
    "    x = np.array([np.log(1 / point[0]) for point in r_Nr])  # log(1/r)\n",
    "    y = np.array([np.log(point[1]) for point in r_Nr])  # log(Nr)\n",
    "    D = np.polyfit(x, y, 1)[0]  # D = lim r -> 0 log(Nr)/log(1/r)\n",
    "    return D"
   ]
  },
  {
   "cell_type": "code",
   "execution_count": 7,
   "metadata": {},
   "outputs": [],
   "source": [
    "def create_fractal_dimensions_list(path):\n",
    "    \n",
    "    main_dir = os.listdir(path)\n",
    "\n",
    "    images_f_dims = []\n",
    "    \n",
    "    for i in main_dir:\n",
    "        img_path = os.path.join(path, i)\n",
    "        print(f'Processing {img_path}...')\n",
    "        image = cv2.imread(img_path, 0)        \n",
    "        fd = fractal_dimension(image)\n",
    "    \n",
    "        images_f_dims.append(fd)\n",
    "        \n",
    "        \n",
    "        \n",
    "    return images_f_dims"
   ]
  },
  {
   "cell_type": "code",
   "execution_count": 12,
   "metadata": {},
   "outputs": [
    {
     "name": "stdout",
     "output_type": "stream",
     "text": [
      "Processing c:\\Users\\akoun\\Desktop\\Biocruces\\siburmuin\\src\\notebooks\\working\\Original\\panda.jpeg...\n",
      "Processing c:\\Users\\akoun\\Desktop\\Biocruces\\siburmuin\\src\\notebooks\\working\\Original\\panthera-tigris-.jpeg...\n",
      "Processing c:\\Users\\akoun\\Desktop\\Biocruces\\siburmuin\\src\\notebooks\\working\\Original\\pexels-7inchs-11552022.jpg...\n"
     ]
    },
    {
     "ename": "KeyboardInterrupt",
     "evalue": "",
     "output_type": "error",
     "traceback": [
      "\u001b[1;31m---------------------------------------------------------------------------\u001b[0m",
      "\u001b[1;31mKeyboardInterrupt\u001b[0m                         Traceback (most recent call last)",
      "Cell \u001b[1;32mIn[12], line 4\u001b[0m\n\u001b[0;32m      1\u001b[0m working_dir \u001b[38;5;241m=\u001b[39m os\u001b[38;5;241m.\u001b[39mpath\u001b[38;5;241m.\u001b[39mjoin(os\u001b[38;5;241m.\u001b[39mgetcwd(), \u001b[38;5;124m'\u001b[39m\u001b[38;5;124mworking\u001b[39m\u001b[38;5;124m'\u001b[39m)\n\u001b[0;32m      2\u001b[0m image_folder \u001b[38;5;241m=\u001b[39m working_dir \u001b[38;5;241m+\u001b[39m \u001b[38;5;124m'\u001b[39m\u001b[38;5;124m\\\u001b[39m\u001b[38;5;124mOriginal\u001b[39m\u001b[38;5;124m'\u001b[39m\n\u001b[1;32m----> 4\u001b[0m fd_list \u001b[38;5;241m=\u001b[39m \u001b[43mcreate_fractal_dimensions_list\u001b[49m\u001b[43m(\u001b[49m\u001b[43mimage_folder\u001b[49m\u001b[43m)\u001b[49m\n\u001b[0;32m      6\u001b[0m fd_table \u001b[38;5;241m=\u001b[39m pd\u001b[38;5;241m.\u001b[39mDataFrame(\u001b[38;5;28mlist\u001b[39m(\u001b[38;5;28mzip\u001b[39m(image_names, fd_list )) ,\n\u001b[0;32m      7\u001b[0m                              columns\u001b[38;5;241m=\u001b[39m[\u001b[38;5;124m'\u001b[39m\u001b[38;5;124mname\u001b[39m\u001b[38;5;124m'\u001b[39m, \u001b[38;5;124m'\u001b[39m\u001b[38;5;124mfractal_dimension\u001b[39m\u001b[38;5;124m'\u001b[39m])\n\u001b[0;32m      8\u001b[0m fd_table\n",
      "Cell \u001b[1;32mIn[7], line 11\u001b[0m, in \u001b[0;36mcreate_fractal_dimensions_list\u001b[1;34m(path)\u001b[0m\n\u001b[0;32m      9\u001b[0m     \u001b[38;5;28mprint\u001b[39m(\u001b[38;5;124mf\u001b[39m\u001b[38;5;124m'\u001b[39m\u001b[38;5;124mProcessing \u001b[39m\u001b[38;5;132;01m{\u001b[39;00mimg_path\u001b[38;5;132;01m}\u001b[39;00m\u001b[38;5;124m...\u001b[39m\u001b[38;5;124m'\u001b[39m)\n\u001b[0;32m     10\u001b[0m     image \u001b[38;5;241m=\u001b[39m cv2\u001b[38;5;241m.\u001b[39mimread(img_path, \u001b[38;5;241m0\u001b[39m)        \n\u001b[1;32m---> 11\u001b[0m     fd \u001b[38;5;241m=\u001b[39m \u001b[43mfractal_dimension\u001b[49m\u001b[43m(\u001b[49m\u001b[43mimage\u001b[49m\u001b[43m)\u001b[49m\n\u001b[0;32m     13\u001b[0m     images_f_dims\u001b[38;5;241m.\u001b[39mappend(fd)\n\u001b[0;32m     17\u001b[0m \u001b[38;5;28;01mreturn\u001b[39;00m images_f_dims\n",
      "Cell \u001b[1;32mIn[2], line 32\u001b[0m, in \u001b[0;36mfractal_dimension\u001b[1;34m(image)\u001b[0m\n\u001b[0;32m     30\u001b[0m         height \u001b[38;5;241m=\u001b[39m (pixel \u001b[38;5;241m-\u001b[39m G_min) \u001b[38;5;241m/\u001b[39m\u001b[38;5;241m/\u001b[39m h  \u001b[38;5;66;03m# lowest box is at G_min and each is h gray levels tall\u001b[39;00m\n\u001b[0;32m     31\u001b[0m         boxes[height]\u001b[38;5;241m.\u001b[39mappend(pixel)  \u001b[38;5;66;03m# assign the pixel intensity to the correct box\u001b[39;00m\n\u001b[1;32m---> 32\u001b[0m stddev \u001b[38;5;241m=\u001b[39m np\u001b[38;5;241m.\u001b[39msqrt(\u001b[43mnp\u001b[49m\u001b[38;5;241;43m.\u001b[39;49m\u001b[43mvar\u001b[49m\u001b[43m(\u001b[49m\u001b[43mboxes\u001b[49m\u001b[43m,\u001b[49m\u001b[43m \u001b[49m\u001b[43maxis\u001b[49m\u001b[38;5;241;43m=\u001b[39;49m\u001b[38;5;241;43m1\u001b[39;49m\u001b[43m)\u001b[49m)  \u001b[38;5;66;03m# calculate the standard deviation of each box\u001b[39;00m\n\u001b[0;32m     33\u001b[0m stddev \u001b[38;5;241m=\u001b[39m stddev[\u001b[38;5;241m~\u001b[39mnp\u001b[38;5;241m.\u001b[39misnan(stddev)]  \u001b[38;5;66;03m# remove boxes with NaN standard deviations (empty)\u001b[39;00m\n\u001b[0;32m     34\u001b[0m nBox_r \u001b[38;5;241m=\u001b[39m \u001b[38;5;241m2\u001b[39m \u001b[38;5;241m*\u001b[39m (stddev \u001b[38;5;241m/\u001b[39m\u001b[38;5;241m/\u001b[39m h) \u001b[38;5;241m+\u001b[39m \u001b[38;5;241m1\u001b[39m\n",
      "File \u001b[1;32mc:\\Users\\akoun\\anaconda3\\envs\\bio_dvs\\lib\\site-packages\\numpy\\core\\fromnumeric.py:3787\u001b[0m, in \u001b[0;36mvar\u001b[1;34m(a, axis, dtype, out, ddof, keepdims, where)\u001b[0m\n\u001b[0;32m   3784\u001b[0m     \u001b[38;5;28;01melse\u001b[39;00m:\n\u001b[0;32m   3785\u001b[0m         \u001b[38;5;28;01mreturn\u001b[39;00m var(axis\u001b[38;5;241m=\u001b[39maxis, dtype\u001b[38;5;241m=\u001b[39mdtype, out\u001b[38;5;241m=\u001b[39mout, ddof\u001b[38;5;241m=\u001b[39mddof, \u001b[38;5;241m*\u001b[39m\u001b[38;5;241m*\u001b[39mkwargs)\n\u001b[1;32m-> 3787\u001b[0m \u001b[38;5;28;01mreturn\u001b[39;00m _methods\u001b[38;5;241m.\u001b[39m_var(a, axis\u001b[38;5;241m=\u001b[39maxis, dtype\u001b[38;5;241m=\u001b[39mdtype, out\u001b[38;5;241m=\u001b[39mout, ddof\u001b[38;5;241m=\u001b[39mddof,\n\u001b[0;32m   3788\u001b[0m                      \u001b[38;5;241m*\u001b[39m\u001b[38;5;241m*\u001b[39mkwargs)\n",
      "File \u001b[1;32mc:\\Users\\akoun\\anaconda3\\envs\\bio_dvs\\lib\\site-packages\\numpy\\core\\_methods.py:139\u001b[0m, in \u001b[0;36m_var\u001b[1;34m(a, axis, dtype, out, ddof, keepdims, where)\u001b[0m\n\u001b[0;32m    135\u001b[0m \u001b[38;5;28;01mdef\u001b[39;00m \u001b[38;5;21m_var\u001b[39m(a, axis\u001b[38;5;241m=\u001b[39m\u001b[38;5;28;01mNone\u001b[39;00m, dtype\u001b[38;5;241m=\u001b[39m\u001b[38;5;28;01mNone\u001b[39;00m, out\u001b[38;5;241m=\u001b[39m\u001b[38;5;28;01mNone\u001b[39;00m, ddof\u001b[38;5;241m=\u001b[39m\u001b[38;5;241m0\u001b[39m, keepdims\u001b[38;5;241m=\u001b[39m\u001b[38;5;28;01mFalse\u001b[39;00m, \u001b[38;5;241m*\u001b[39m,\n\u001b[0;32m    136\u001b[0m          where\u001b[38;5;241m=\u001b[39m\u001b[38;5;28;01mTrue\u001b[39;00m):\n\u001b[0;32m    137\u001b[0m     arr \u001b[38;5;241m=\u001b[39m asanyarray(a)\n\u001b[1;32m--> 139\u001b[0m     rcount \u001b[38;5;241m=\u001b[39m \u001b[43m_count_reduce_items\u001b[49m(arr, axis, keepdims\u001b[38;5;241m=\u001b[39mkeepdims, where\u001b[38;5;241m=\u001b[39mwhere)\n\u001b[0;32m    140\u001b[0m     \u001b[38;5;66;03m# Make this warning show up on top.\u001b[39;00m\n\u001b[0;32m    141\u001b[0m     \u001b[38;5;28;01mif\u001b[39;00m ddof \u001b[38;5;241m>\u001b[39m\u001b[38;5;241m=\u001b[39m rcount \u001b[38;5;28;01mif\u001b[39;00m where \u001b[38;5;129;01mis\u001b[39;00m \u001b[38;5;28;01mTrue\u001b[39;00m \u001b[38;5;28;01melse\u001b[39;00m umr_any(ddof \u001b[38;5;241m>\u001b[39m\u001b[38;5;241m=\u001b[39m rcount, axis\u001b[38;5;241m=\u001b[39m\u001b[38;5;28;01mNone\u001b[39;00m):\n",
      "\u001b[1;31mKeyboardInterrupt\u001b[0m: "
     ]
    }
   ],
   "source": [
    "working_dir = os.path.join(os.getcwd(), 'working')\n",
    "image_folder = working_dir + '\\Original'\n",
    "\n",
    "fd_list = create_fractal_dimensions_list(image_folder)\n",
    "\n",
    "fd_table = pd.DataFrame(list(zip(image_names, fd_list )) ,\n",
    "                             columns=['name', 'fractal_dimension'])\n",
    "fd_table"
   ]
  }
 ],
 "metadata": {
  "kernelspec": {
   "display_name": "bio_psychopy",
   "language": "python",
   "name": "python3"
  },
  "language_info": {
   "codemirror_mode": {
    "name": "ipython",
    "version": 3
   },
   "file_extension": ".py",
   "mimetype": "text/x-python",
   "name": "python",
   "nbconvert_exporter": "python",
   "pygments_lexer": "ipython3",
   "version": "3.9.18"
  }
 },
 "nbformat": 4,
 "nbformat_minor": 2
}
