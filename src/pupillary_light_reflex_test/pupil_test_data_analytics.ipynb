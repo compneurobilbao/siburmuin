{
 "cells": [
  {
   "cell_type": "code",
   "execution_count": 45,
   "metadata": {},
   "outputs": [],
   "source": [
    "# load data from C:\\Users\\akoun\\Desktop\\Biocruces\\siburmuin\\src\\pupillary_light_reflex_test\\data - latest csv available\n",
    "import os\n",
    "import pandas as pd\n",
    "import numpy as np\n",
    "import matplotlib.pyplot as plt\n",
    "import seaborn as sns\n",
    "\n",
    "# load data\n",
    "data_folder = r'C:\\Users\\akoun\\Desktop\\Biocruces\\siburmuin\\src\\pupillary_light_reflex_test\\data'\n",
    "data_files = os.listdir(data_folder)\n",
    "data_files = [file for file in data_files if file.endswith('.csv')]\n",
    "\n",
    "# load data\n",
    "data = pd.read_csv(os.path.join(data_folder, data_files[-1]))\n",
    "\n"
   ]
  },
  {
   "cell_type": "code",
   "execution_count": 46,
   "metadata": {},
   "outputs": [
    {
     "data": {
      "text/html": [
       "<div>\n",
       "<style scoped>\n",
       "    .dataframe tbody tr th:only-of-type {\n",
       "        vertical-align: middle;\n",
       "    }\n",
       "\n",
       "    .dataframe tbody tr th {\n",
       "        vertical-align: top;\n",
       "    }\n",
       "\n",
       "    .dataframe thead th {\n",
       "        text-align: right;\n",
       "    }\n",
       "</style>\n",
       "<table border=\"1\" class=\"dataframe\">\n",
       "  <thead>\n",
       "    <tr style=\"text-align: right;\">\n",
       "      <th></th>\n",
       "      <th>thisRow.t</th>\n",
       "      <th>notes</th>\n",
       "      <th>settings.started</th>\n",
       "      <th>baseTime</th>\n",
       "      <th>settings.stopped</th>\n",
       "      <th>adaptation_period.started</th>\n",
       "      <th>text_countdown.started</th>\n",
       "      <th>text_countdown.stopped</th>\n",
       "      <th>adaptation_period.stopped</th>\n",
       "      <th>red_flash.started</th>\n",
       "      <th>...</th>\n",
       "      <th>text_3.stopped</th>\n",
       "      <th>blue_flash.stopped</th>\n",
       "      <th>participant</th>\n",
       "      <th>session</th>\n",
       "      <th>date</th>\n",
       "      <th>expName</th>\n",
       "      <th>psychopyVersion</th>\n",
       "      <th>frameRate</th>\n",
       "      <th>expStart</th>\n",
       "      <th>Unnamed: 29</th>\n",
       "    </tr>\n",
       "  </thead>\n",
       "  <tbody>\n",
       "    <tr>\n",
       "      <th>0</th>\n",
       "      <td>NaN</td>\n",
       "      <td>NaN</td>\n",
       "      <td>0.004438</td>\n",
       "      <td>1.727959e+09</td>\n",
       "      <td>0.004772</td>\n",
       "      <td>0.004787</td>\n",
       "      <td>0.029467</td>\n",
       "      <td>10.036791</td>\n",
       "      <td>10.02593</td>\n",
       "      <td>10.025945</td>\n",
       "      <td>...</td>\n",
       "      <td>22.037138</td>\n",
       "      <td>22.026346</td>\n",
       "      <td>NaN</td>\n",
       "      <td>NaN</td>\n",
       "      <td>NaN</td>\n",
       "      <td>NaN</td>\n",
       "      <td>NaN</td>\n",
       "      <td>NaN</td>\n",
       "      <td>NaN</td>\n",
       "      <td>NaN</td>\n",
       "    </tr>\n",
       "  </tbody>\n",
       "</table>\n",
       "<p>1 rows × 30 columns</p>\n",
       "</div>"
      ],
      "text/plain": [
       "   thisRow.t  notes  settings.started      baseTime  settings.stopped  \\\n",
       "0        NaN    NaN          0.004438  1.727959e+09          0.004772   \n",
       "\n",
       "   adaptation_period.started  text_countdown.started  text_countdown.stopped  \\\n",
       "0                   0.004787                0.029467               10.036791   \n",
       "\n",
       "   adaptation_period.stopped  red_flash.started  ...  text_3.stopped  \\\n",
       "0                   10.02593          10.025945  ...       22.037138   \n",
       "\n",
       "   blue_flash.stopped  participant  session  date  expName  psychopyVersion  \\\n",
       "0           22.026346          NaN      NaN   NaN      NaN              NaN   \n",
       "\n",
       "   frameRate  expStart  Unnamed: 29  \n",
       "0        NaN       NaN          NaN  \n",
       "\n",
       "[1 rows x 30 columns]"
      ]
     },
     "execution_count": 46,
     "metadata": {},
     "output_type": "execute_result"
    }
   ],
   "source": [
    "data"
   ]
  },
  {
   "cell_type": "code",
   "execution_count": 47,
   "metadata": {},
   "outputs": [
    {
     "data": {
      "text/plain": [
       "Index(['thisRow.t', 'notes', 'settings.started', 'baseTime',\n",
       "       'settings.stopped', 'adaptation_period.started',\n",
       "       'text_countdown.started', 'text_countdown.stopped',\n",
       "       'adaptation_period.stopped', 'red_flash.started', 'redTime',\n",
       "       'text.started', 'text.stopped', 'red_flash.stopped',\n",
       "       'rest_period.started', 'text_2.started', 'text_2.stopped',\n",
       "       'rest_period.stopped', 'blue_flash.started', 'text_3.started',\n",
       "       'text_3.stopped', 'blue_flash.stopped', 'participant', 'session',\n",
       "       'date', 'expName', 'psychopyVersion', 'frameRate', 'expStart',\n",
       "       'Unnamed: 29'],\n",
       "      dtype='object')"
      ]
     },
     "execution_count": 47,
     "metadata": {},
     "output_type": "execute_result"
    }
   ],
   "source": [
    "data.columns"
   ]
  },
  {
   "cell_type": "code",
   "execution_count": 48,
   "metadata": {},
   "outputs": [
    {
     "data": {
      "text/plain": [
       "{'base_time': '2024-10-03 14:29:55.636',\n",
       " 'red_time': '2024-10-03 14:30:05.658',\n",
       " 'red_start': 10.025945300003514,\n",
       " 'red_stop': 11.02788250008598,\n",
       " 'blue_start': 21.026519800070677,\n",
       " 'blue_stop': 22.0263456000248}"
      ]
     },
     "execution_count": 48,
     "metadata": {},
     "output_type": "execute_result"
    }
   ],
   "source": [
    "from time import strftime, localtime\n",
    "from datetime import datetime\n",
    "\n",
    "def format_time(col_name):\n",
    "    base_time = localtime(data[col_name].values[0])\n",
    "    milliseconds = int(data[col_name].values[0] * 1000) % 1000\n",
    "    formatted_time = f\"{strftime('%Y-%m-%d %H:%M:%S', base_time)}.{milliseconds:03d}\"\n",
    "\n",
    "    return formatted_time\n",
    "\n",
    "results_timestamps_dict = {\n",
    "    \"base_time\": format_time(\"baseTime\"),\n",
    "    \"red_time\": format_time(\"redTime\"),\n",
    "    \"red_start\": data['red_flash.started'].values[0],\n",
    "    \"red_stop\": data['red_flash.stopped'].values[0],\n",
    "    \"blue_start\": data['blue_flash.started'].values[0],\n",
    "    \"blue_stop\": data['blue_flash.stopped'].values[0]\n",
    "}\n",
    "\n",
    "results_timestamps_dict"
   ]
  },
  {
   "cell_type": "code",
   "execution_count": 49,
   "metadata": {},
   "outputs": [
    {
     "name": "stdout",
     "output_type": "stream",
     "text": [
      "Diferencia en segundos: 10.022\n"
     ]
    }
   ],
   "source": [
    "base_time = datetime.strptime(results_timestamps_dict['base_time'], '%Y-%m-%d %H:%M:%S.%f')\n",
    "red_time = datetime.strptime(results_timestamps_dict['red_time'], '%Y-%m-%d %H:%M:%S.%f')\n",
    "\n",
    "# Calcular la diferencia de tiempo\n",
    "time_difference = red_time - base_time\n",
    "\n",
    "# Convertir la diferencia a milisegundos\n",
    "time_difference_seconds = time_difference.total_seconds()\n",
    "\n",
    "print(f'Diferencia en segundos: {time_difference_seconds}')"
   ]
  }
 ],
 "metadata": {
  "kernelspec": {
   "display_name": "bio_psychopy",
   "language": "python",
   "name": "python3"
  },
  "language_info": {
   "codemirror_mode": {
    "name": "ipython",
    "version": 3
   },
   "file_extension": ".py",
   "mimetype": "text/x-python",
   "name": "python",
   "nbconvert_exporter": "python",
   "pygments_lexer": "ipython3",
   "version": "3.9.18"
  }
 },
 "nbformat": 4,
 "nbformat_minor": 2
}
